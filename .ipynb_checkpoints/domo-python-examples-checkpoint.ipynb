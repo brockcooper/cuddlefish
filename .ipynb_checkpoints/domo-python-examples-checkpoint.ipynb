{
 "cells": [
  {
   "cell_type": "code",
   "execution_count": null,
   "metadata": {},
   "outputs": [],
   "source": [
    "import domo-python"
   ]
  },
  {
   "cell_type": "code",
   "execution_count": null,
   "metadata": {},
   "outputs": [],
   "source": [
    "# Please change the variables in the following section as they apply to your specific use case\n",
    "#############################################################\n",
    "\n",
    "# Domo Variables from developer.domo.com\n",
    "client_id = \"46efc1bf-fb95-4ff7-9d57-70bde3bebaf8\"\n",
    "client_secret = \"30b67fac7f65c18cde4126d263775ae5fb897c7a0e01d304761bbd7dc3f4a0aa\"\n",
    "\n",
    "# Domo Dataset ID of Hisorical data needing to be forecasted\n",
    "historicalDatasetId = \"426069b2-69e7-43ff-9e4f-cb79e3cb14df\"\n",
    "\n",
    "# Domo Dataset ID where you want to push forecasted data to\n",
    "# If blank, we will create a new dataset each time\n",
    "# Run the script once as blank, then next time input the dataset id now that it's been created\n",
    "timeseriesForecastDatasetID = \"69a2852f-fa0a-4854-ac52-efbca2287c30\"\n",
    "\n",
    "#############################################################"
   ]
  },
  {
   "cell_type": "code",
   "execution_count": null,
   "metadata": {},
   "outputs": [],
   "source": [
    "# Get a token\n",
    "\n",
    "token = get_access_token( client_id, client_secret )\n",
    "print(token)"
   ]
  },
  {
   "cell_type": "code",
   "execution_count": null,
   "metadata": {},
   "outputs": [],
   "source": [
    "# Create a new dataset\n",
    "\n",
    "dataset_schema = \"\"\"{\n",
    "       \"name\" : \"Domo API | Sample Domo Dataset Name\",\n",
    "       \"description\" : \"This dataset came from the Domo API\",\n",
    "       \"rows\" : 0,\n",
    "       \"schema\" : {\n",
    "         \"columns\" : [ {\n",
    "           \"type\" : \"STRING\",\n",
    "           \"name\" : \"group\"\n",
    "         },{\n",
    "           \"type\" : \"DATETIME\",\n",
    "           \"name\" : \"ds\"\n",
    "         },{\n",
    "           \"type\" : \"LONG\",\n",
    "           \"name\" : \"y\"\n",
    "         } ]\n",
    "       }\n",
    "     }\"\"\"\n",
    "\n",
    "create_new_domo_dataset ( token, dataset_schema)"
   ]
  },
  {
   "cell_type": "code",
   "execution_count": null,
   "metadata": {},
   "outputs": [],
   "source": [
    "# Export Data from Domo\n",
    "\n",
    "df = domo_cav_to_dataframe ( historicalDatasetId, client_id, client_secret )\n",
    "df.head()"
   ]
  },
  {
   "cell_type": "code",
   "execution_count": null,
   "metadata": {},
   "outputs": [],
   "source": [
    "# Import Data from a Dataframe to Domo\n",
    "\n",
    "dataframe_to_domo_dataset ( df, timeseriesForecastDatasetID, client_id, client_secret  )"
   ]
  }
 ],
 "metadata": {
  "kernelspec": {
   "display_name": "Python 3",
   "language": "python",
   "name": "python3"
  },
  "language_info": {
   "codemirror_mode": {
    "name": "ipython",
    "version": 3
   },
   "file_extension": ".py",
   "mimetype": "text/x-python",
   "name": "python",
   "nbconvert_exporter": "python",
   "pygments_lexer": "ipython3",
   "version": "3.6.5"
  }
 },
 "nbformat": 4,
 "nbformat_minor": 2
}
